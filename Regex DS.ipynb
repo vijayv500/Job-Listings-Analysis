{
 "cells": [
  {
   "cell_type": "code",
   "execution_count": 4,
   "metadata": {},
   "outputs": [
    {
     "data": {
      "text/plain": [
       "491"
      ]
     },
     "execution_count": 4,
     "metadata": {},
     "output_type": "execute_result"
    }
   ],
   "source": [
    "import csv\n",
    "from collections import Counter\n",
    "from wordcloud import WordCloud\n",
    "import matplotlib.pyplot as plt\n",
    "import re\n",
    "\n",
    "\n",
    "descs = []\n",
    "with open('500 descriptions.csv', newline='') as inputfile:\n",
    "    for row in csv.reader(inputfile):\n",
    "        descs.append(row[0])\n",
    "\n",
    "len(descs)\n",
    "        \n",
    " "
   ]
  },
  {
   "cell_type": "code",
   "execution_count": 5,
   "metadata": {},
   "outputs": [],
   "source": [
    "text = ' '.join(descs)"
   ]
  },
  {
   "cell_type": "code",
   "execution_count": 6,
   "metadata": {},
   "outputs": [
    {
     "data": {
      "text/plain": [
       "1948443"
      ]
     },
     "execution_count": 6,
     "metadata": {},
     "output_type": "execute_result"
    }
   ],
   "source": [
    "len(text)"
   ]
  },
  {
   "cell_type": "code",
   "execution_count": 7,
   "metadata": {},
   "outputs": [
    {
     "name": "stdout",
     "output_type": "stream",
     "text": [
      "['13 years', '15 years', '4 years', '1 year', '2 years']\n"
     ]
    },
    {
     "data": {
      "text/plain": [
       "509"
      ]
     },
     "execution_count": 7,
     "metadata": {},
     "output_type": "execute_result"
    }
   ],
   "source": [
    "pattern = re.compile(r'\\d{1,2}\\+?\\syears?')\n",
    "matches = pattern.findall(text)\n",
    "\n",
    "print(matches[0:5])\n",
    "len(matches)"
   ]
  },
  {
   "cell_type": "code",
   "execution_count": 8,
   "metadata": {},
   "outputs": [],
   "source": [
    "exp = Counter(matches)"
   ]
  },
  {
   "cell_type": "code",
   "execution_count": 9,
   "metadata": {},
   "outputs": [
    {
     "data": {
      "text/plain": [
       "{'2+ years': 60,\n",
       " '2 years': 53,\n",
       " '3 years': 51,\n",
       " '3+ years': 51,\n",
       " '5 years': 44,\n",
       " '5+ years': 33,\n",
       " '1 year': 30,\n",
       " '4+ years': 23,\n",
       " '4 years': 21,\n",
       " '1+ years': 16,\n",
       " '7+ years': 14,\n",
       " '6 years': 11,\n",
       " '7 years': 9,\n",
       " '50 years': 8,\n",
       " '10 years': 7,\n",
       " '40 years': 7,\n",
       " '6+ years': 7,\n",
       " '8 years': 5,\n",
       " '1 years': 5,\n",
       " '8+ years': 4,\n",
       " '12 years': 4,\n",
       " '20+ years': 3,\n",
       " '50 year': 3,\n",
       " '10+ years': 3,\n",
       " '60 years': 3,\n",
       " '2+ year': 3,\n",
       " '13 years': 2,\n",
       " '15 years': 2,\n",
       " '89 years': 2,\n",
       " '29 years': 2,\n",
       " '20 years': 2,\n",
       " '00 years': 2,\n",
       " '16 years': 2,\n",
       " '4 year': 2,\n",
       " '25 years': 2,\n",
       " '3 year': 2,\n",
       " '9 years': 1,\n",
       " '11 years': 1,\n",
       " '30 years': 1,\n",
       " '15+ years': 1,\n",
       " '90 years': 1,\n",
       " '35 years': 1,\n",
       " '5+ year': 1,\n",
       " '90+ years': 1,\n",
       " '18 years': 1,\n",
       " '14 years': 1,\n",
       " '85 years': 1}"
      ]
     },
     "execution_count": 9,
     "metadata": {},
     "output_type": "execute_result"
    }
   ],
   "source": [
    "exp = dict(sorted(exp.items(), reverse=True,key=lambda item: item[1])) #sorting dict in descending order of values\n",
    "exp\n",
    "# experience=[1,2,3,4,5,6,7,8,9,10,11,12] #hardcoded\n",
    "# times = [51,116,104,46,78,18,23,9,1,10,1,4]"
   ]
  },
  {
   "cell_type": "code",
   "execution_count": 167,
   "metadata": {},
   "outputs": [
    {
     "name": "stderr",
     "output_type": "stream",
     "text": [
      "No handles with labels found to put in legend.\n"
     ]
    },
    {
     "data": {
      "image/png": "[encoded data removed]",
      "text/plain": [
       "<Figure size 432x288 with 1 Axes>"
      ]
     },
     "metadata": {
      "needs_background": "light"
     },
     "output_type": "display_data"
    }
   ],
   "source": [
    "experience=[1,2,3,4,5,6,7,8,9,10,11,12]\n",
    "Frequency = [51,116,104,46,78,18,23,9,1,10,1,4]\n",
    "plt.bar(experience,Frequency,color='black')\n",
    "plt.legend()\n",
    "plt.title(\"Job Experience Sought in 'Data Scientist' Job Listings\")\n",
    "plt.xlabel(\"Years of experience\")\n",
    "plt.ylabel(\"Frequency\")\n",
    "plt.tight_layout()\n",
    "plt.show()"
   ]
  },
  {
   "cell_type": "code",
   "execution_count": null,
   "metadata": {},
   "outputs": [],
   "source": []
  },
  {
   "cell_type": "code",
   "execution_count": null,
   "metadata": {},
   "outputs": [],
   "source": []
  },
  {
   "cell_type": "code",
   "execution_count": 40,
   "metadata": {},
   "outputs": [
    {
     "data": {
      "text/plain": [
       "350"
      ]
     },
     "execution_count": 40,
     "metadata": {},
     "output_type": "execute_result"
    }
   ],
   "source": [
    "pattern = re.compile(r'\\bR\\b')\n",
    "matches = pattern.findall(text)\n",
    "len(matches)"
   ]
  },
  {
   "cell_type": "code",
   "execution_count": 41,
   "metadata": {},
   "outputs": [
    {
     "data": {
      "text/plain": [
       "482"
      ]
     },
     "execution_count": 41,
     "metadata": {},
     "output_type": "execute_result"
    }
   ],
   "source": [
    "pattern = re.compile(r'(Python|python)')\n",
    "matches = pattern.findall(text)\n",
    "len(matches)"
   ]
  },
  {
   "cell_type": "code",
   "execution_count": 60,
   "metadata": {},
   "outputs": [
    {
     "data": {
      "text/plain": [
       "364"
      ]
     },
     "execution_count": 60,
     "metadata": {},
     "output_type": "execute_result"
    }
   ],
   "source": [
    "pattern = re.compile(r'(SQL|sql|Sql)')\n",
    "matches = pattern.findall(text)\n",
    "len(matches)"
   ]
  },
  {
   "cell_type": "code",
   "execution_count": 63,
   "metadata": {},
   "outputs": [
    {
     "data": {
      "text/plain": [
       "97"
      ]
     },
     "execution_count": 63,
     "metadata": {},
     "output_type": "execute_result"
    }
   ],
   "source": [
    "pattern = re.compile(r'(Java|java)')\n",
    "matches = pattern.findall(text)\n",
    "len(matches)"
   ]
  },
  {
   "cell_type": "code",
   "execution_count": 50,
   "metadata": {},
   "outputs": [
    {
     "data": {
      "text/plain": [
       "48"
      ]
     },
     "execution_count": 50,
     "metadata": {},
     "output_type": "execute_result"
    }
   ],
   "source": [
    "pattern = re.compile(r'C\\+\\+')\n",
    "matches = pattern.findall(text)\n",
    "len(matches)"
   ]
  },
  {
   "cell_type": "code",
   "execution_count": 99,
   "metadata": {},
   "outputs": [
    {
     "data": {
      "text/plain": [
       "25"
      ]
     },
     "execution_count": 99,
     "metadata": {},
     "output_type": "execute_result"
    }
   ],
   "source": [
    "pattern = re.compile(r'(Matlab|matlab)')\n",
    "matches = pattern.findall(text)\n",
    "len(matches)"
   ]
  },
  {
   "cell_type": "code",
   "execution_count": 87,
   "metadata": {},
   "outputs": [
    {
     "data": {
      "text/plain": [
       "15"
      ]
     },
     "execution_count": 87,
     "metadata": {},
     "output_type": "execute_result"
    }
   ],
   "source": [
    "pattern = re.compile(r'(JavaScript|Javascript|javascript)')\n",
    "matches = pattern.findall(text)\n",
    "len(matches)"
   ]
  },
  {
   "cell_type": "code",
   "execution_count": 168,
   "metadata": {},
   "outputs": [
    {
     "data": {
      "image/png": "[encoded data removed]",
      "text/plain": [
       "<Figure size 432x288 with 1 Axes>"
      ]
     },
     "metadata": {
      "needs_background": "light"
     },
     "output_type": "display_data"
    }
   ],
   "source": [
    "labels= ['Python','SQL','R','Java','C++','Matlab','JavaScript']\n",
    "freq= [482,364,350,97,48,25,15]\n",
    "labels.reverse()\n",
    "freq.reverse()\n",
    "plt.barh(labels, freq, animated=True)\n",
    "plt.title(\"Programming Languages sought for 'Data Scientist' Job Listings\")\n",
    "plt.xlabel(\"Frequency\")\n",
    "plt.tight_layout()\n",
    "plt.show()"
   ]
  },
  {
   "cell_type": "code",
   "execution_count": null,
   "metadata": {},
   "outputs": [],
   "source": []
  },
  {
   "cell_type": "code",
   "execution_count": 88,
   "metadata": {},
   "outputs": [
    {
     "data": {
      "text/plain": [
       "66"
      ]
     },
     "execution_count": 88,
     "metadata": {},
     "output_type": "execute_result"
    }
   ],
   "source": [
    "pattern = re.compile(r'(Hadoop|hadoop)')\n",
    "matches = pattern.findall(text)\n",
    "len(matches)"
   ]
  },
  {
   "cell_type": "code",
   "execution_count": 90,
   "metadata": {},
   "outputs": [
    {
     "data": {
      "text/plain": [
       "117"
      ]
     },
     "execution_count": 90,
     "metadata": {},
     "output_type": "execute_result"
    }
   ],
   "source": [
    "pattern = re.compile(r'(Spark|spark)')\n",
    "matches = pattern.findall(text)\n",
    "len(matches)"
   ]
  },
  {
   "cell_type": "code",
   "execution_count": 91,
   "metadata": {},
   "outputs": [
    {
     "data": {
      "text/plain": [
       "45"
      ]
     },
     "execution_count": 91,
     "metadata": {},
     "output_type": "execute_result"
    }
   ],
   "source": [
    "pattern = re.compile(r'(Hive|hive)')\n",
    "matches = pattern.findall(text)\n",
    "len(matches)"
   ]
  },
  {
   "cell_type": "code",
   "execution_count": 183,
   "metadata": {},
   "outputs": [],
   "source": [
    "freq = [117,66,45]\n",
    "labels=[\"Spark\",\"Hadoop\",\"Hive\"]"
   ]
  },
  {
   "cell_type": "code",
   "execution_count": 184,
   "metadata": {},
   "outputs": [
    {
     "data": {
      "image/png": "[encoded data removed]",
      "text/plain": [
       "<Figure size 432x288 with 1 Axes>"
      ]
     },
     "metadata": {},
     "output_type": "display_data"
    }
   ],
   "source": [
    "plt.pie(freq, labels=labels, autopct=\"%1.1f%%\",\n",
    "       wedgeprops={'edgecolor':'black'})\n",
    "plt.title(\"Big Data skills Sought in 'Data Scientist' Job Listings (relative)\")\n",
    "plt.tight_layout()\n",
    "plt.show()"
   ]
  },
  {
   "cell_type": "code",
   "execution_count": 97,
   "metadata": {},
   "outputs": [
    {
     "data": {
      "text/plain": [
       "979"
      ]
     },
     "execution_count": 97,
     "metadata": {},
     "output_type": "execute_result"
    }
   ],
   "source": [
    "pattern = re.compile(r'([Mm]achine [Ll]earning|ML)')\n",
    "matches = pattern.findall(text)\n",
    "len(matches)"
   ]
  },
  {
   "cell_type": "code",
   "execution_count": null,
   "metadata": {},
   "outputs": [],
   "source": []
  },
  {
   "cell_type": "code",
   "execution_count": 100,
   "metadata": {},
   "outputs": [
    {
     "data": {
      "text/plain": [
       "19"
      ]
     },
     "execution_count": 100,
     "metadata": {},
     "output_type": "execute_result"
    }
   ],
   "source": [
    "pattern = re.compile(r'[Dd]ocker')\n",
    "matches = pattern.findall(text)\n",
    "len(matches)"
   ]
  },
  {
   "cell_type": "code",
   "execution_count": 105,
   "metadata": {},
   "outputs": [
    {
     "data": {
      "text/plain": [
       "12"
      ]
     },
     "execution_count": 105,
     "metadata": {},
     "output_type": "execute_result"
    }
   ],
   "source": [
    "pattern = re.compile(r'[Kk]ubernetes')\n",
    "matches = pattern.findall(text)\n",
    "len(matches)"
   ]
  },
  {
   "cell_type": "code",
   "execution_count": 111,
   "metadata": {},
   "outputs": [
    {
     "data": {
      "text/plain": [
       "10"
      ]
     },
     "execution_count": 111,
     "metadata": {},
     "output_type": "execute_result"
    }
   ],
   "source": [
    "pattern = re.compile(r'[Jj]enkins')\n",
    "matches = pattern.findall(text)\n",
    "len(matches)"
   ]
  },
  {
   "cell_type": "code",
   "execution_count": null,
   "metadata": {},
   "outputs": [],
   "source": []
  },
  {
   "cell_type": "code",
   "execution_count": 107,
   "metadata": {},
   "outputs": [
    {
     "data": {
      "text/plain": [
       "161"
      ]
     },
     "execution_count": 107,
     "metadata": {},
     "output_type": "execute_result"
    }
   ],
   "source": [
    "pattern = re.compile(r'([Nn]atural [Ll]anguage [Pp]rocessing|NLP)')\n",
    "matches = pattern.findall(text)\n",
    "len(matches)"
   ]
  },
  {
   "cell_type": "code",
   "execution_count": 140,
   "metadata": {},
   "outputs": [
    {
     "data": {
      "text/plain": [
       "47"
      ]
     },
     "execution_count": 140,
     "metadata": {},
     "output_type": "execute_result"
    }
   ],
   "source": [
    "pattern = re.compile(r'[Cc]omputer [Vv]ision')\n",
    "matches = pattern.findall(text)\n",
    "len(matches)"
   ]
  },
  {
   "cell_type": "code",
   "execution_count": 141,
   "metadata": {},
   "outputs": [
    {
     "data": {
      "text/plain": [
       "11"
      ]
     },
     "execution_count": 141,
     "metadata": {},
     "output_type": "execute_result"
    }
   ],
   "source": [
    "pattern = re.compile(r'[Rr]einforcement [Ll]earning')\n",
    "matches = pattern.findall(text)\n",
    "len(matches)"
   ]
  },
  {
   "cell_type": "code",
   "execution_count": 142,
   "metadata": {},
   "outputs": [
    {
     "data": {
      "text/plain": [
       "64"
      ]
     },
     "execution_count": 142,
     "metadata": {},
     "output_type": "execute_result"
    }
   ],
   "source": [
    "pattern = re.compile(r'[Ss]tructured [Dd]ata')\n",
    "matches = pattern.findall(text)\n",
    "len(matches)"
   ]
  },
  {
   "cell_type": "code",
   "execution_count": 178,
   "metadata": {},
   "outputs": [
    {
     "data": {
      "image/png": "[encoded data removed]",
      "text/plain": [
       "<Figure size 432x288 with 1 Axes>"
      ]
     },
     "metadata": {},
     "output_type": "display_data"
    }
   ],
   "source": [
    "freq = [161,47,82,11]\n",
    "labels = ['NLP','Computer Vision','Time-series Data','Reinforcment Learning']\n",
    "explode = [0,0,0,0,0]\n",
    "\n",
    "plt.pie(freq, labels=labels, autopct=\"%1.1f%%\",\n",
    "       wedgeprops={'edgecolor':'black'})\n",
    "plt.title(\"Types of Data/Algorithms - 'Data Scientist' Job Listings (relative)\")\n",
    "plt.tight_layout()\n",
    "plt.show()"
   ]
  },
  {
   "cell_type": "code",
   "execution_count": null,
   "metadata": {},
   "outputs": [],
   "source": []
  },
  {
   "cell_type": "code",
   "execution_count": 124,
   "metadata": {},
   "outputs": [
    {
     "data": {
      "text/plain": [
       "115"
      ]
     },
     "execution_count": 124,
     "metadata": {},
     "output_type": "execute_result"
    }
   ],
   "source": [
    "pattern = re.compile(r'[Tt]ableau')\n",
    "matches = pattern.findall(text)\n",
    "len(matches)"
   ]
  },
  {
   "cell_type": "code",
   "execution_count": 123,
   "metadata": {},
   "outputs": [
    {
     "data": {
      "text/plain": [
       "30"
      ]
     },
     "execution_count": 123,
     "metadata": {},
     "output_type": "execute_result"
    }
   ],
   "source": [
    "pattern = re.compile(r'(PowerBI|Power BI)')\n",
    "matches = pattern.findall(text)\n",
    "len(matches)"
   ]
  },
  {
   "cell_type": "code",
   "execution_count": 115,
   "metadata": {},
   "outputs": [
    {
     "data": {
      "text/plain": [
       "17"
      ]
     },
     "execution_count": 115,
     "metadata": {},
     "output_type": "execute_result"
    }
   ],
   "source": [
    "pattern = re.compile(r'[Ll]ooker')\n",
    "matches = pattern.findall(text)\n",
    "len(matches)"
   ]
  },
  {
   "cell_type": "code",
   "execution_count": 177,
   "metadata": {},
   "outputs": [
    {
     "data": {
      "image/png": "[encoded data removed]",
      "text/plain": [
       "<Figure size 432x288 with 1 Axes>"
      ]
     },
     "metadata": {},
     "output_type": "display_data"
    }
   ],
   "source": [
    "freq = [115,30,17]\n",
    "labels = ['Tableau','Power BI','Looker']\n",
    "explode = [0,0,0,0,0]\n",
    "\n",
    "plt.pie(freq, labels=labels, shadow=True, startangle=90, autopct=\"%1.1f%%\",\n",
    "       wedgeprops={'edgecolor':'black'})\n",
    "plt.title(\"Dataviz Tools Sought in 'Data Scientist' Job Listings (relative)\")\n",
    "plt.tight_layout()\n",
    "plt.show()"
   ]
  },
  {
   "cell_type": "code",
   "execution_count": null,
   "metadata": {},
   "outputs": [],
   "source": []
  },
  {
   "cell_type": "code",
   "execution_count": 116,
   "metadata": {},
   "outputs": [
    {
     "data": {
      "text/plain": [
       "90"
      ]
     },
     "execution_count": 116,
     "metadata": {},
     "output_type": "execute_result"
    }
   ],
   "source": [
    "pattern = re.compile(r'AWS')\n",
    "matches = pattern.findall(text)\n",
    "len(matches)"
   ]
  },
  {
   "cell_type": "code",
   "execution_count": 117,
   "metadata": {},
   "outputs": [
    {
     "data": {
      "text/plain": [
       "46"
      ]
     },
     "execution_count": 117,
     "metadata": {},
     "output_type": "execute_result"
    }
   ],
   "source": [
    "pattern = re.compile(r'Azure')\n",
    "matches = pattern.findall(text)\n",
    "len(matches)"
   ]
  },
  {
   "cell_type": "code",
   "execution_count": 119,
   "metadata": {},
   "outputs": [
    {
     "data": {
      "text/plain": [
       "30"
      ]
     },
     "execution_count": 119,
     "metadata": {},
     "output_type": "execute_result"
    }
   ],
   "source": [
    "pattern = re.compile(r'(GCP|[Gg]oogle [Cc]loud)')\n",
    "matches = pattern.findall(text)\n",
    "len(matches)"
   ]
  },
  {
   "cell_type": "code",
   "execution_count": 186,
   "metadata": {},
   "outputs": [
    {
     "data": {
      "image/png": "[encoded data removed]",
      "text/plain": [
       "<Figure size 432x288 with 1 Axes>"
      ]
     },
     "metadata": {},
     "output_type": "display_data"
    }
   ],
   "source": [
    "freq = [104,46,30]\n",
    "labels = [\"AWS\",\"Azure\",\"GCP\"]\n",
    "explode = [0,0,0,0,0]\n",
    "\n",
    "plt.pie(freq, labels=labels, shadow=True, startangle=90, autopct=\"%1.1f%%\",\n",
    "       wedgeprops={'edgecolor':'black'})\n",
    "plt.title(\"Cloud Skills Sought in 'Data Scientist' Job Listings (relative)\")\n",
    "plt.tight_layout()\n",
    "plt.show()"
   ]
  },
  {
   "cell_type": "code",
   "execution_count": null,
   "metadata": {},
   "outputs": [],
   "source": []
  },
  {
   "cell_type": "code",
   "execution_count": 136,
   "metadata": {},
   "outputs": [
    {
     "data": {
      "text/plain": [
       "60"
      ]
     },
     "execution_count": 136,
     "metadata": {},
     "output_type": "execute_result"
    }
   ],
   "source": [
    "pattern = re.compile(r'[Tt]ensor[Ff]low')\n",
    "matches = pattern.findall(text)\n",
    "len(matches)"
   ]
  },
  {
   "cell_type": "code",
   "execution_count": 137,
   "metadata": {},
   "outputs": [
    {
     "data": {
      "text/plain": [
       "42"
      ]
     },
     "execution_count": 137,
     "metadata": {},
     "output_type": "execute_result"
    }
   ],
   "source": [
    "pattern = re.compile(r'(PyTorch|pytorch|Pytorch)')\n",
    "matches = pattern.findall(text)\n",
    "len(matches)"
   ]
  },
  {
   "cell_type": "code",
   "execution_count": 138,
   "metadata": {},
   "outputs": [
    {
     "data": {
      "text/plain": [
       "20"
      ]
     },
     "execution_count": 138,
     "metadata": {},
     "output_type": "execute_result"
    }
   ],
   "source": [
    "pattern = re.compile(r'[Kk]eras')\n",
    "matches = pattern.findall(text)\n",
    "len(matches)"
   ]
  },
  {
   "cell_type": "code",
   "execution_count": 185,
   "metadata": {},
   "outputs": [
    {
     "data": {
      "image/png": "[encoded data removed]",
      "text/plain": [
       "<Figure size 432x288 with 1 Axes>"
      ]
     },
     "metadata": {},
     "output_type": "display_data"
    }
   ],
   "source": [
    "freq = [60,42,20]\n",
    "labels = ['Tensorflow','Pytorch','Keras']\n",
    "\n",
    "plt.pie(freq, labels=labels, shadow=True, startangle=90, autopct=\"%1.1f%%\",\n",
    "       wedgeprops={'edgecolor':'black'})\n",
    "plt.title(\"ML Frameworks Sought in 'Data Scientist' Job Listings (relative)\")\n",
    "plt.tight_layout()\n",
    "plt.show()"
   ]
  },
  {
   "cell_type": "code",
   "execution_count": null,
   "metadata": {},
   "outputs": [],
   "source": []
  }
 ],
 "metadata": {
  "kernelspec": {
   "display_name": "Python 3",
   "language": "python",
   "name": "python3"
  },
  "language_info": {
   "codemirror_mode": {
    "name": "ipython",
    "version": 3
   },
   "file_extension": ".py",
   "mimetype": "text/x-python",
   "name": "python",
   "nbconvert_exporter": "python",
   "pygments_lexer": "ipython3",
   "version": "3.8.5"
  }
 },
 "nbformat": 4,
 "nbformat_minor": 4
}
